{
 "cells": [
  {
   "cell_type": "code",
   "execution_count": 1,
   "metadata": {},
   "outputs": [
    {
     "name": "stdout",
     "output_type": "stream",
     "text": [
      "('numpy version = ', '1.14.5')\n",
      "('pandas version = ', u'0.23.4')\n"
     ]
    }
   ],
   "source": [
    "'''\n",
    "Create new category 'source_label' to identify the recording device:\n",
    "    - assign label 's' (source) to audio segments if recorded by Device A;\n",
    "    - assign label 't' (target) to audio segments if recorded by other devices.\n",
    "''' \n",
    "\n",
    "import numpy as np \n",
    "import pandas as pd\n",
    "print(\"numpy version = \",np.__version__)\n",
    "print(\"pandas version = \",pd.__version__)"
   ]
  },
  {
   "cell_type": "code",
   "execution_count": 2,
   "metadata": {},
   "outputs": [],
   "source": [
    "ThisPath = '../../commonData/dcase2020/TAU-urban-acoustic-scenes-2020-mobile-development/'\n",
    "TrainFile = ThisPath + 'evaluation_setup/fold1_train.csv'\n",
    "ValFile = ThisPath + 'evaluation_setup/fold1_evaluate.csv'\n",
    "AllFile = ThisPath + 'meta.csv'\n",
    "sr = 44100\n",
    "num_audio_channels = 1\n",
    "\n",
    "dev_train_df = pd.read_csv(TrainFile,sep='\\t', encoding='ASCII')\n",
    "dev_val_df = pd.read_csv(ValFile,sep='\\t', encoding='ASCII')\n",
    "wavpaths_train = dev_train_df['filename'].tolist()\n",
    "wavpaths_val = dev_val_df['filename'].tolist()\n",
    "\n",
    "\n",
    "dev_train_df['source_label'] = 't'\n",
    "dev_train_df.loc[dev_train_df['filename'].str.contains(\"-a.wav\"),'source_label'] = 's'\n",
    "dev_val_df['source_label'] = 't'\n",
    "dev_val_df.loc[dev_val_df['filename'].str.contains(\"-a.wav\"),'source_label'] = 's'\n",
    "\n",
    "\n",
    "dev_train_df.to_csv(TrainFile[:-4]+'_st.csv', index=False, header = True, sep='\\t')\n",
    "dev_val_df.to_csv(ValFile[:-4]+'_st.csv', index=False, header = True, sep='\\t')\n"
   ]
  },
  {
   "cell_type": "code",
   "execution_count": 3,
   "metadata": {},
   "outputs": [],
   "source": [
    "all_df = pd.read_csv(AllFile,sep='\\t', encoding='ASCII')\n",
    "wavpaths_all = all_df['filename'].tolist()\n",
    "\n",
    "all_df['source_label'] = 't'\n",
    "all_df.loc[all_df['filename'].str.contains(\"-a.wav\"),'source_label'] = 's'\n",
    "\n",
    "all_df.to_csv(AllFile[:-4]+'_st.csv', index=False, header = True, sep='\\t')"
   ]
  },
  {
   "cell_type": "code",
   "execution_count": null,
   "metadata": {},
   "outputs": [],
   "source": []
  }
 ],
 "metadata": {
  "kernelspec": {
   "display_name": "Python 2",
   "language": "python",
   "name": "python2"
  },
  "language_info": {
   "codemirror_mode": {
    "name": "ipython",
    "version": 2
   },
   "file_extension": ".py",
   "mimetype": "text/x-python",
   "name": "python",
   "nbconvert_exporter": "python",
   "pygments_lexer": "ipython2",
   "version": "2.7.12"
  }
 },
 "nbformat": 4,
 "nbformat_minor": 2
}
